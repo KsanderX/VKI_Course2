{
 "cells": [
  {
   "cell_type": "code",
   "execution_count": null,
   "metadata": {},
   "outputs": [
    {
     "ename": "",
     "evalue": "",
     "output_type": "error",
     "traceback": [
      "\u001b[1;31mRunning cells with 'Python 3.11.4' requires the ipykernel package.\n",
      "\u001b[1;31mRun the following command to install 'ipykernel' into the Python environment. \n",
      "\u001b[1;31mCommand: 'c:/Python311/python.exe -m pip install ipykernel -U --user --force-reinstall'"
     ]
    }
   ],
   "source": [
    "import random\n",
    "\n",
    "def виселица():  \n",
    "\n",
    "    word = [\"python\", \"javascript\", \"programming\", \"computer\", \"science\",\"code\" ]\n",
    "    word = random.choice(word)\n",
    "    list_letters = list(word)\n",
    "    empty_word = [\"_\"] * len(word)\n",
    "    attemp = 6\n",
    "\n",
    "    print(\"Добро пожаловать в Виселицу!\")\n",
    "\n",
    "    while attemp > 0:\n",
    "        print(\"Слово:\", \" \".join(empty_word))\n",
    "        print(\"Оставшиеся попытки:\", attemp)\n",
    "\n",
    "        entered_letter = input(\"Введите букву: \").lower()\n",
    "\n",
    "        if len(entered_letter) != 1 or not entered_letter.isalpha():\n",
    "            print(\"Пожалуйста, введите одну букву.\")\n",
    "            continue\n",
    "\n",
    "        if entered_letter in list_letters:\n",
    "            print(\"Верно!\")\n",
    "            for i in range(len(list_letters)):\n",
    "                if list_letters[i] == entered_letter:\n",
    "                    empty_word[i] = entered_letter\n",
    "        else:\n",
    "            print(\"Неверно!\")\n",
    "            attemp -= 1\n",
    "\n",
    "        if \"_\" not in empty_word:\n",
    "            print(\"Поздравляем! Вы угадали слово:\", word)\n",
    "            break\n",
    "\n",
    "    if \"_\" in empty_word:\n",
    "        print(\"Вы проиграли! Слово было:\", word)\n",
    "\n",
    "виселица()"
   ]
  }
 ],
 "metadata": {
  "kernelspec": {
   "display_name": "Python 3",
   "language": "python",
   "name": "python3"
  },
  "language_info": {
   "codemirror_mode": {
    "name": "ipython",
    "version": 3
   },
   "file_extension": ".py",
   "mimetype": "text/x-python",
   "name": "python",
   "nbconvert_exporter": "python",
   "pygments_lexer": "ipython3",
   "version": "3.11.4"
  }
 },
 "nbformat": 4,
 "nbformat_minor": 2
}
